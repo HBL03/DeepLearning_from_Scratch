{
 "cells": [
  {
   "cell_type": "markdown",
   "id": "4bbe6c73-a7da-4b9c-9c8a-987a196ed66f",
   "metadata": {},
   "source": [
    "## <span style=\"font-family: 'D2Coding'\">1.3  파이썬 인터프리터</span>"
   ]
  },
  {
   "cell_type": "code",
   "execution_count": 1,
   "id": "46bc0431-d733-4d3a-be9a-6cb3b46e2934",
   "metadata": {},
   "outputs": [
    {
     "name": "stdout",
     "output_type": "stream",
     "text": [
      "Python 3.12.1\n"
     ]
    }
   ],
   "source": [
    "!python --version"
   ]
  },
  {
   "cell_type": "markdown",
   "id": "21658b59-6de5-456a-9a23-63eef237be47",
   "metadata": {},
   "source": [
    "### <span style=\"font-family: 'D2Coding'\">1.3.1 산술 연산</span>"
   ]
  },
  {
   "cell_type": "code",
   "execution_count": 2,
   "id": "19fa93ea-1993-4a2c-acfa-074c798cf0f2",
   "metadata": {},
   "outputs": [
    {
     "data": {
      "text/plain": [
       "3"
      ]
     },
     "execution_count": 2,
     "metadata": {},
     "output_type": "execute_result"
    }
   ],
   "source": [
    "1 + 2"
   ]
  },
  {
   "cell_type": "code",
   "execution_count": 3,
   "id": "9b91ddc2-3dac-41a2-a7f0-f7ac7588d7c9",
   "metadata": {},
   "outputs": [
    {
     "data": {
      "text/plain": [
       "-1"
      ]
     },
     "execution_count": 3,
     "metadata": {},
     "output_type": "execute_result"
    }
   ],
   "source": [
    "1 - 2"
   ]
  },
  {
   "cell_type": "code",
   "execution_count": 4,
   "id": "a907f6b5-80dc-4cf7-80b7-9ccf696f38f4",
   "metadata": {},
   "outputs": [
    {
     "data": {
      "text/plain": [
       "20"
      ]
     },
     "execution_count": 4,
     "metadata": {},
     "output_type": "execute_result"
    }
   ],
   "source": [
    "4 * 5"
   ]
  },
  {
   "cell_type": "code",
   "execution_count": 5,
   "id": "7d451d46-4394-4db0-bdb4-711aac2ce22e",
   "metadata": {},
   "outputs": [
    {
     "data": {
      "text/plain": [
       "1.4"
      ]
     },
     "execution_count": 5,
     "metadata": {},
     "output_type": "execute_result"
    }
   ],
   "source": [
    "7 / 5"
   ]
  },
  {
   "cell_type": "code",
   "execution_count": 6,
   "id": "15b6b586-7bc9-45fa-8af8-f3771caf6ef3",
   "metadata": {},
   "outputs": [
    {
     "data": {
      "text/plain": [
       "9"
      ]
     },
     "execution_count": 6,
     "metadata": {},
     "output_type": "execute_result"
    }
   ],
   "source": [
    "3 ** 2"
   ]
  },
  {
   "cell_type": "markdown",
   "id": "705b6304-592e-4afc-abaf-fe0dbdcc800a",
   "metadata": {},
   "source": [
    "### <span style=\"font-family: 'D2Coding'\">1.3.2 자료형</span>"
   ]
  },
  {
   "cell_type": "code",
   "execution_count": 7,
   "id": "ff86e780-b428-42e3-adf4-9e98e96489b2",
   "metadata": {},
   "outputs": [
    {
     "data": {
      "text/plain": [
       "int"
      ]
     },
     "execution_count": 7,
     "metadata": {},
     "output_type": "execute_result"
    }
   ],
   "source": [
    "type(10)"
   ]
  },
  {
   "cell_type": "code",
   "execution_count": 8,
   "id": "fbe0597b-97fe-4f95-ab0b-0eaf953c248d",
   "metadata": {},
   "outputs": [
    {
     "data": {
      "text/plain": [
       "float"
      ]
     },
     "execution_count": 8,
     "metadata": {},
     "output_type": "execute_result"
    }
   ],
   "source": [
    "type(2.718)"
   ]
  },
  {
   "cell_type": "code",
   "execution_count": 9,
   "id": "7751c884-7fc3-43e4-b2db-8de39fbe538e",
   "metadata": {},
   "outputs": [
    {
     "data": {
      "text/plain": [
       "str"
      ]
     },
     "execution_count": 9,
     "metadata": {},
     "output_type": "execute_result"
    }
   ],
   "source": [
    "type(\"hello\")"
   ]
  },
  {
   "cell_type": "markdown",
   "id": "a05403ce-215a-468a-8951-c03908fe0384",
   "metadata": {},
   "source": [
    "### <span style=\"font-family: 'New Font'\">1.3.3 변수</span>"
   ]
  },
  {
   "cell_type": "code",
   "execution_count": 10,
   "id": "91e13436-0544-4995-8cdb-349337d87303",
   "metadata": {},
   "outputs": [],
   "source": [
    "x = 10"
   ]
  },
  {
   "cell_type": "code",
   "execution_count": 11,
   "id": "0f08cbf6-79f7-4bd0-8cda-a151f48e42bc",
   "metadata": {},
   "outputs": [
    {
     "name": "stdout",
     "output_type": "stream",
     "text": [
      "10\n"
     ]
    }
   ],
   "source": [
    "print(x)"
   ]
  },
  {
   "cell_type": "code",
   "execution_count": 12,
   "id": "5a7fdfb3-6fa7-493c-acec-9528431886d7",
   "metadata": {},
   "outputs": [],
   "source": [
    "x = 100"
   ]
  },
  {
   "cell_type": "code",
   "execution_count": 13,
   "id": "ca3adc68-2e99-4f0e-9adf-5098e2e6ed1f",
   "metadata": {},
   "outputs": [
    {
     "name": "stdout",
     "output_type": "stream",
     "text": [
      "100\n"
     ]
    }
   ],
   "source": [
    "print(x)"
   ]
  },
  {
   "cell_type": "code",
   "execution_count": 14,
   "id": "bfdb7fcc-645d-46df-af40-fdad77d07b29",
   "metadata": {},
   "outputs": [],
   "source": [
    "y = 3.14"
   ]
  },
  {
   "cell_type": "code",
   "execution_count": 15,
   "id": "dd7b4b43-c97d-4df5-8687-492304108f86",
   "metadata": {},
   "outputs": [
    {
     "data": {
      "text/plain": [
       "314.0"
      ]
     },
     "execution_count": 15,
     "metadata": {},
     "output_type": "execute_result"
    }
   ],
   "source": [
    "x * y"
   ]
  },
  {
   "cell_type": "code",
   "execution_count": 16,
   "id": "9fdf29fb-0f12-4855-891e-8cd6b283ad34",
   "metadata": {},
   "outputs": [
    {
     "data": {
      "text/plain": [
       "float"
      ]
     },
     "execution_count": 16,
     "metadata": {},
     "output_type": "execute_result"
    }
   ],
   "source": [
    "type(x * y)"
   ]
  },
  {
   "cell_type": "code",
   "execution_count": 17,
   "id": "03b4c156-97d6-43ce-a73b-edc2b9fd10d2",
   "metadata": {},
   "outputs": [
    {
     "name": "stdout",
     "output_type": "stream",
     "text": [
      "<class 'int'> <class 'float'>\n"
     ]
    }
   ],
   "source": [
    "print(type(x), type(y))"
   ]
  },
  {
   "cell_type": "code",
   "execution_count": 18,
   "id": "7a86044c-b000-4581-af6b-6b185407596f",
   "metadata": {},
   "outputs": [
    {
     "data": {
      "text/plain": [
       "int"
      ]
     },
     "execution_count": 18,
     "metadata": {},
     "output_type": "execute_result"
    }
   ],
   "source": [
    "type(x * 3)"
   ]
  },
  {
   "cell_type": "markdown",
   "id": "f7ba3b24-b78a-4cf8-895e-19066251c0e4",
   "metadata": {},
   "source": [
    "### <span style=\"font-family: 'D2Coding'\">1.3.4 리스트</span>"
   ]
  },
  {
   "cell_type": "code",
   "execution_count": 19,
   "id": "95705a51-b72b-4962-b874-3f34a422000c",
   "metadata": {},
   "outputs": [],
   "source": [
    "a = [1, 2, 3, 4, 5]"
   ]
  },
  {
   "cell_type": "code",
   "execution_count": 20,
   "id": "e93e5d11-df96-458a-af6a-8e76597f3fc5",
   "metadata": {},
   "outputs": [
    {
     "name": "stdout",
     "output_type": "stream",
     "text": [
      "[1, 2, 3, 4, 5]\n"
     ]
    }
   ],
   "source": [
    "print(a)"
   ]
  },
  {
   "cell_type": "code",
   "execution_count": 21,
   "id": "605b71a0-b244-4428-a134-60f836129ea8",
   "metadata": {},
   "outputs": [
    {
     "data": {
      "text/plain": [
       "5"
      ]
     },
     "execution_count": 21,
     "metadata": {},
     "output_type": "execute_result"
    }
   ],
   "source": [
    "len(a)"
   ]
  },
  {
   "cell_type": "code",
   "execution_count": 22,
   "id": "f2e01ca4-b7ac-4036-9a6e-4cc775401f2e",
   "metadata": {},
   "outputs": [
    {
     "data": {
      "text/plain": [
       "1"
      ]
     },
     "execution_count": 22,
     "metadata": {},
     "output_type": "execute_result"
    }
   ],
   "source": [
    "a[0]"
   ]
  },
  {
   "cell_type": "code",
   "execution_count": 23,
   "id": "2e5dacc1-a4a3-421f-b5bd-8733f3ae431c",
   "metadata": {},
   "outputs": [
    {
     "data": {
      "text/plain": [
       "5"
      ]
     },
     "execution_count": 23,
     "metadata": {},
     "output_type": "execute_result"
    }
   ],
   "source": [
    "a[4]"
   ]
  },
  {
   "cell_type": "code",
   "execution_count": 24,
   "id": "9d37534e-4291-43b3-b495-9e5e03285b2d",
   "metadata": {},
   "outputs": [],
   "source": [
    "a[4] = 99"
   ]
  },
  {
   "cell_type": "code",
   "execution_count": 25,
   "id": "87a65a72-3627-4ccd-ad02-4373e2eba301",
   "metadata": {},
   "outputs": [
    {
     "name": "stdout",
     "output_type": "stream",
     "text": [
      "[1, 2, 3, 4, 99]\n"
     ]
    }
   ],
   "source": [
    "print(a)"
   ]
  },
  {
   "cell_type": "code",
   "execution_count": 26,
   "id": "7d45e5c1-3661-4aa4-bc2c-b3e676fa027d",
   "metadata": {},
   "outputs": [
    {
     "data": {
      "text/plain": [
       "[1, 2]"
      ]
     },
     "execution_count": 26,
     "metadata": {},
     "output_type": "execute_result"
    }
   ],
   "source": [
    "a[0:2]"
   ]
  },
  {
   "cell_type": "code",
   "execution_count": 27,
   "id": "12ae0364-c9ef-4037-bb37-bc2c6c1c6777",
   "metadata": {},
   "outputs": [
    {
     "data": {
      "text/plain": [
       "[2, 3, 4, 99]"
      ]
     },
     "execution_count": 27,
     "metadata": {},
     "output_type": "execute_result"
    }
   ],
   "source": [
    "a[1:]"
   ]
  },
  {
   "cell_type": "code",
   "execution_count": 28,
   "id": "aff71c0f-4215-4247-8e5d-4807ff752e08",
   "metadata": {},
   "outputs": [
    {
     "data": {
      "text/plain": [
       "[1, 2, 3]"
      ]
     },
     "execution_count": 28,
     "metadata": {},
     "output_type": "execute_result"
    }
   ],
   "source": [
    "a[:3]"
   ]
  },
  {
   "cell_type": "code",
   "execution_count": 29,
   "id": "4b4244b5-a6e9-4926-9443-77dbc4a77840",
   "metadata": {},
   "outputs": [
    {
     "data": {
      "text/plain": [
       "[1, 2, 3, 4]"
      ]
     },
     "execution_count": 29,
     "metadata": {},
     "output_type": "execute_result"
    }
   ],
   "source": [
    "a[:-1]"
   ]
  },
  {
   "cell_type": "code",
   "execution_count": 30,
   "id": "a0d02862-a78a-4624-b58d-c5fd79aec8ab",
   "metadata": {},
   "outputs": [
    {
     "data": {
      "text/plain": [
       "[1, 2, 3]"
      ]
     },
     "execution_count": 30,
     "metadata": {},
     "output_type": "execute_result"
    }
   ],
   "source": [
    "a[:-2]"
   ]
  },
  {
   "cell_type": "markdown",
   "id": "e29b9eae-1e9c-4e24-b567-d4e3c70cb9b7",
   "metadata": {},
   "source": [
    "### <span style=\"font-family: 'D2Coding'\">1.3.5 딕셔너리</span>"
   ]
  },
  {
   "cell_type": "code",
   "execution_count": 31,
   "id": "2a9eb54a-89e7-43bc-b09b-060d75a13c58",
   "metadata": {},
   "outputs": [],
   "source": [
    "me = {'height': 180}"
   ]
  },
  {
   "cell_type": "code",
   "execution_count": 32,
   "id": "70849f9e-70f8-4039-b136-c93aff7d5e8f",
   "metadata": {},
   "outputs": [
    {
     "data": {
      "text/plain": [
       "180"
      ]
     },
     "execution_count": 32,
     "metadata": {},
     "output_type": "execute_result"
    }
   ],
   "source": [
    "me['height']"
   ]
  },
  {
   "cell_type": "code",
   "execution_count": 33,
   "id": "219f86e9-c86c-40ad-8450-902f473a02cb",
   "metadata": {},
   "outputs": [],
   "source": [
    "me['weight'] = 70"
   ]
  },
  {
   "cell_type": "code",
   "execution_count": 34,
   "id": "35d16b63-ad18-4a0c-9310-9343e7840121",
   "metadata": {},
   "outputs": [
    {
     "name": "stdout",
     "output_type": "stream",
     "text": [
      "{'height': 180, 'weight': 70}\n"
     ]
    }
   ],
   "source": [
    "print(me)"
   ]
  },
  {
   "cell_type": "markdown",
   "id": "a7d7154f-c9a5-4f60-89b2-789aed9461da",
   "metadata": {},
   "source": [
    "### <span style=\"font-family: 'D2Coding'\">1.3.6 bool</span>"
   ]
  },
  {
   "cell_type": "code",
   "execution_count": 35,
   "id": "b5ee6402-de61-47c5-9a60-8426beee85b6",
   "metadata": {},
   "outputs": [],
   "source": [
    "hungry = True"
   ]
  },
  {
   "cell_type": "code",
   "execution_count": 36,
   "id": "359bc395-ece6-4a34-b7ed-ab8189243d6b",
   "metadata": {},
   "outputs": [],
   "source": [
    "sleepy = False"
   ]
  },
  {
   "cell_type": "code",
   "execution_count": 37,
   "id": "2202f85e-fb20-4cb0-b5a0-709277cb6bf1",
   "metadata": {},
   "outputs": [
    {
     "data": {
      "text/plain": [
       "bool"
      ]
     },
     "execution_count": 37,
     "metadata": {},
     "output_type": "execute_result"
    }
   ],
   "source": [
    "type(hungry)"
   ]
  },
  {
   "cell_type": "code",
   "execution_count": 38,
   "id": "7e99bd56-e389-4646-ae99-220a0415ee48",
   "metadata": {},
   "outputs": [
    {
     "data": {
      "text/plain": [
       "False"
      ]
     },
     "execution_count": 38,
     "metadata": {},
     "output_type": "execute_result"
    }
   ],
   "source": [
    "not hungry"
   ]
  },
  {
   "cell_type": "code",
   "execution_count": 39,
   "id": "1e245ea4-27c2-4f85-a940-a92bc85f8df3",
   "metadata": {},
   "outputs": [
    {
     "data": {
      "text/plain": [
       "False"
      ]
     },
     "execution_count": 39,
     "metadata": {},
     "output_type": "execute_result"
    }
   ],
   "source": [
    "hungry and sleepy"
   ]
  },
  {
   "cell_type": "code",
   "execution_count": 40,
   "id": "55090c2e-bed1-47a2-aca7-1996bf3e9fd7",
   "metadata": {},
   "outputs": [
    {
     "data": {
      "text/plain": [
       "True"
      ]
     },
     "execution_count": 40,
     "metadata": {},
     "output_type": "execute_result"
    }
   ],
   "source": [
    "hungry or sleepy"
   ]
  },
  {
   "cell_type": "code",
   "execution_count": 41,
   "id": "8b54bccb-e6c2-4188-8e0e-18f1b6b0cee2",
   "metadata": {},
   "outputs": [],
   "source": [
    "hungry = True"
   ]
  },
  {
   "cell_type": "markdown",
   "id": "13772f7f-434f-447c-93e5-8953c59834e1",
   "metadata": {},
   "source": [
    "### <span style=\"font-family: 'D2Coding'\">1.3.7 if문</span>"
   ]
  },
  {
   "cell_type": "code",
   "execution_count": 42,
   "id": "bae3bcc2-d69a-4537-b1c7-2d061bbc0e28",
   "metadata": {},
   "outputs": [],
   "source": [
    "hungry = True"
   ]
  },
  {
   "cell_type": "code",
   "execution_count": 43,
   "id": "16cc1d4e-abf3-4ab8-b5b6-bb971bb09f41",
   "metadata": {},
   "outputs": [
    {
     "name": "stdout",
     "output_type": "stream",
     "text": [
      "I'm hungry\n"
     ]
    }
   ],
   "source": [
    "if hungry:\n",
    "    print(\"I'm hungry\")"
   ]
  },
  {
   "cell_type": "code",
   "execution_count": 44,
   "id": "1f886853-04c0-423a-9100-8abdbeae1a6a",
   "metadata": {},
   "outputs": [],
   "source": [
    "hungry = False"
   ]
  },
  {
   "cell_type": "code",
   "execution_count": 45,
   "id": "09eca546-91b6-4973-989a-caa8dcc80302",
   "metadata": {},
   "outputs": [
    {
     "name": "stdout",
     "output_type": "stream",
     "text": [
      "I'm not hungry\n",
      "I'm sleepy\n"
     ]
    }
   ],
   "source": [
    "if hungry:\n",
    "    print(\"I'm hungry\")\n",
    "else:\n",
    "    print(\"I'm not hungry\")\n",
    "    print(\"I'm sleepy\")"
   ]
  },
  {
   "cell_type": "markdown",
   "id": "c1c1ac4a-c505-47e5-b4f7-b2da7b5950b9",
   "metadata": {},
   "source": [
    "### <span style=\"font-family: 'D2Coding'\">1.3.8 for 문</span>"
   ]
  },
  {
   "cell_type": "code",
   "execution_count": 46,
   "id": "ebafd68e-ab9e-4b45-bc77-fd168a84b60d",
   "metadata": {},
   "outputs": [
    {
     "name": "stdout",
     "output_type": "stream",
     "text": [
      "1\n",
      "2\n",
      "3\n"
     ]
    }
   ],
   "source": [
    "for i in [1,2,3]:\n",
    "    print(i)"
   ]
  },
  {
   "cell_type": "markdown",
   "id": "5c88d2c0-1812-4c86-bf1d-5f9937dd06f4",
   "metadata": {},
   "source": [
    "### <span style=\"font-family: 'D2Coding'\">1.3.9 함수</span>"
   ]
  },
  {
   "cell_type": "code",
   "execution_count": 47,
   "id": "ae0910dc-81a4-4c51-a574-bc8ff6c3ae67",
   "metadata": {},
   "outputs": [],
   "source": [
    "def hello():\n",
    "    print(\"Hello World!\")"
   ]
  },
  {
   "cell_type": "code",
   "execution_count": 48,
   "id": "684b1721-d9be-4332-8679-89d1ee8dcad0",
   "metadata": {},
   "outputs": [
    {
     "name": "stdout",
     "output_type": "stream",
     "text": [
      "Hello World!\n"
     ]
    }
   ],
   "source": [
    "hello()"
   ]
  },
  {
   "cell_type": "code",
   "execution_count": 49,
   "id": "9659b6d2-fb6d-41ad-8cda-fce04f96a38c",
   "metadata": {},
   "outputs": [],
   "source": [
    "def hello(object):\n",
    "    print(\"Hello \" + object + \"!\")"
   ]
  },
  {
   "cell_type": "code",
   "execution_count": 50,
   "id": "77ba18f0-e548-457b-a4d6-7498c9fda876",
   "metadata": {},
   "outputs": [
    {
     "name": "stdout",
     "output_type": "stream",
     "text": [
      "Hello cat!\n"
     ]
    }
   ],
   "source": [
    "hello(\"cat\")"
   ]
  }
 ],
 "metadata": {
  "kernelspec": {
   "display_name": "Python 3 (ipykernel)",
   "language": "python",
   "name": "python3"
  },
  "language_info": {
   "codemirror_mode": {
    "name": "ipython",
    "version": 3
   },
   "file_extension": ".py",
   "mimetype": "text/x-python",
   "name": "python",
   "nbconvert_exporter": "python",
   "pygments_lexer": "ipython3",
   "version": "3.12.1"
  }
 },
 "nbformat": 4,
 "nbformat_minor": 5
}

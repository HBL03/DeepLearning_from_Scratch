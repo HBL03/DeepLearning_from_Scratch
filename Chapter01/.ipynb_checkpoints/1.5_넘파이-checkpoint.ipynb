{
 "cells": [
  {
   "cell_type": "markdown",
   "id": "395c8c82-4189-49c2-a7e8-cee7fb0ff55d",
   "metadata": {},
   "source": [
    "### <span style=\"font-family: 'D2Coding'\">1.5.1 넘파이 가져오기</span>"
   ]
  },
  {
   "cell_type": "code",
   "execution_count": 1,
   "id": "fccf6970-0f0a-4e1f-8d02-9b770185b77c",
   "metadata": {},
   "outputs": [],
   "source": [
    "import numpy as np"
   ]
  },
  {
   "cell_type": "markdown",
   "id": "e89370cc-b121-4edd-aa98-ab95255907b5",
   "metadata": {},
   "source": [
    "### <span style=\"font-family: 'D2Coding'\">1.5.2 넘파이 배열 생성하기</span>"
   ]
  },
  {
   "cell_type": "code",
   "execution_count": 2,
   "id": "76aa130a-566e-40e5-b41e-cfcd8511184b",
   "metadata": {},
   "outputs": [],
   "source": [
    "x = np.array([1.0, 2.0, 3.0])"
   ]
  },
  {
   "cell_type": "code",
   "execution_count": 3,
   "id": "6f09e906-4d25-45f3-9d64-80855dd3216c",
   "metadata": {},
   "outputs": [
    {
     "name": "stdout",
     "output_type": "stream",
     "text": [
      "[1. 2. 3.]\n"
     ]
    }
   ],
   "source": [
    "print(x)"
   ]
  },
  {
   "cell_type": "code",
   "execution_count": 4,
   "id": "52cc50f7-5104-4249-ac45-e8b11708fdbf",
   "metadata": {},
   "outputs": [
    {
     "data": {
      "text/plain": [
       "numpy.ndarray"
      ]
     },
     "execution_count": 4,
     "metadata": {},
     "output_type": "execute_result"
    }
   ],
   "source": [
    "type(x)"
   ]
  },
  {
   "cell_type": "markdown",
   "id": "2157d201-5a81-4096-ba90-5fada1434a85",
   "metadata": {},
   "source": [
    "### <span style=\"font-family: 'D2Coding'\">1.5.3 넘파이의 산술 연산</span>"
   ]
  },
  {
   "cell_type": "code",
   "execution_count": 5,
   "id": "344709ae-d727-4fc2-97fb-8aff5d146766",
   "metadata": {},
   "outputs": [],
   "source": [
    "x = np.array([1.0, 2.0, 3.0])\n",
    "y = np.array([2.0, 4.0, 6.0])"
   ]
  },
  {
   "cell_type": "code",
   "execution_count": 6,
   "id": "4cb2c9a4-507e-4bfa-910e-fba205b3a1e9",
   "metadata": {},
   "outputs": [
    {
     "data": {
      "text/plain": [
       "array([3., 6., 9.])"
      ]
     },
     "execution_count": 6,
     "metadata": {},
     "output_type": "execute_result"
    }
   ],
   "source": [
    "x + y"
   ]
  },
  {
   "cell_type": "code",
   "execution_count": 7,
   "id": "27a1240a-ba28-4202-a4d5-1ac49a0fcf72",
   "metadata": {},
   "outputs": [
    {
     "data": {
      "text/plain": [
       "array([-1., -2., -3.])"
      ]
     },
     "execution_count": 7,
     "metadata": {},
     "output_type": "execute_result"
    }
   ],
   "source": [
    "x - y"
   ]
  },
  {
   "cell_type": "code",
   "execution_count": 8,
   "id": "f92ab948-0841-461b-967e-4101767aca5a",
   "metadata": {},
   "outputs": [
    {
     "data": {
      "text/plain": [
       "array([ 2.,  8., 18.])"
      ]
     },
     "execution_count": 8,
     "metadata": {},
     "output_type": "execute_result"
    }
   ],
   "source": [
    "x * y"
   ]
  },
  {
   "cell_type": "code",
   "execution_count": 9,
   "id": "39366f1e-6ee5-4601-8259-c491830ad6f2",
   "metadata": {},
   "outputs": [
    {
     "data": {
      "text/plain": [
       "array([0.5, 0.5, 0.5])"
      ]
     },
     "execution_count": 9,
     "metadata": {},
     "output_type": "execute_result"
    }
   ],
   "source": [
    "x / y"
   ]
  },
  {
   "cell_type": "code",
   "execution_count": 10,
   "id": "d352608b-cedb-4df4-8aeb-1b938a0fe3c6",
   "metadata": {},
   "outputs": [
    {
     "data": {
      "text/plain": [
       "array([0.5, 1. , 1.5])"
      ]
     },
     "execution_count": 10,
     "metadata": {},
     "output_type": "execute_result"
    }
   ],
   "source": [
    "x / 2.0"
   ]
  },
  {
   "cell_type": "markdown",
   "id": "f51dca53-7085-4e44-a300-9c8fea334a56",
   "metadata": {},
   "source": [
    "### <span style=\"font-family: 'D2Coding'\">1.5.4 넘파이의 N차원 배열</span>"
   ]
  },
  {
   "cell_type": "code",
   "execution_count": 14,
   "id": "3c12ca77-51bd-42f1-a489-f0f2ec81e2b4",
   "metadata": {},
   "outputs": [],
   "source": [
    "A = np.array([[1,2,],[3,4,]])"
   ]
  },
  {
   "cell_type": "code",
   "execution_count": 15,
   "id": "e0a8e612-f428-4575-85d2-efe44c1b2b4b",
   "metadata": {},
   "outputs": [
    {
     "name": "stdout",
     "output_type": "stream",
     "text": [
      "[[1 2]\n",
      " [3 4]]\n"
     ]
    }
   ],
   "source": [
    "print(A)"
   ]
  },
  {
   "cell_type": "code",
   "execution_count": 16,
   "id": "ccf553df-53fc-4004-b031-150c552127fc",
   "metadata": {},
   "outputs": [
    {
     "data": {
      "text/plain": [
       "(2, 2)"
      ]
     },
     "execution_count": 16,
     "metadata": {},
     "output_type": "execute_result"
    }
   ],
   "source": [
    "A.shape"
   ]
  },
  {
   "cell_type": "code",
   "execution_count": 17,
   "id": "01ae001d-64c8-470c-acd6-08426bbd0a51",
   "metadata": {},
   "outputs": [
    {
     "data": {
      "text/plain": [
       "dtype('int32')"
      ]
     },
     "execution_count": 17,
     "metadata": {},
     "output_type": "execute_result"
    }
   ],
   "source": [
    "A.dtype"
   ]
  },
  {
   "cell_type": "code",
   "execution_count": 18,
   "id": "cb408c43-72f4-4a3f-8f7c-0a5253eb5de5",
   "metadata": {},
   "outputs": [],
   "source": [
    "B = np.array([[3,0,],[0,6,]])"
   ]
  },
  {
   "cell_type": "code",
   "execution_count": 19,
   "id": "71a7a2e5-08fa-4054-b730-c375cfd6331e",
   "metadata": {},
   "outputs": [
    {
     "data": {
      "text/plain": [
       "array([[ 4,  2],\n",
       "       [ 3, 10]])"
      ]
     },
     "execution_count": 19,
     "metadata": {},
     "output_type": "execute_result"
    }
   ],
   "source": [
    "A + B"
   ]
  },
  {
   "cell_type": "code",
   "execution_count": 20,
   "id": "c450871c-e62b-4746-87d0-432be70d1b3b",
   "metadata": {},
   "outputs": [
    {
     "data": {
      "text/plain": [
       "array([[ 3,  0],\n",
       "       [ 0, 24]])"
      ]
     },
     "execution_count": 20,
     "metadata": {},
     "output_type": "execute_result"
    }
   ],
   "source": [
    "A * B"
   ]
  },
  {
   "cell_type": "code",
   "execution_count": 21,
   "id": "625fd7a8-bd0f-451c-9c36-7ef8094eefbf",
   "metadata": {},
   "outputs": [
    {
     "name": "stdout",
     "output_type": "stream",
     "text": [
      "[[1 2]\n",
      " [3 4]]\n"
     ]
    }
   ],
   "source": [
    "print(A)"
   ]
  },
  {
   "cell_type": "code",
   "execution_count": 22,
   "id": "50f828bd-a7d0-46bf-80ed-6def39d5bee7",
   "metadata": {},
   "outputs": [
    {
     "data": {
      "text/plain": [
       "array([[10, 20],\n",
       "       [30, 40]])"
      ]
     },
     "execution_count": 22,
     "metadata": {},
     "output_type": "execute_result"
    }
   ],
   "source": [
    "A * 10"
   ]
  },
  {
   "cell_type": "markdown",
   "id": "0cf1a9c6-88ec-46ec-81d0-242f68a217fd",
   "metadata": {},
   "source": [
    "### <span style=\"font-family: 'D2Coding'\">1.5.5 브로드캐스트</span>"
   ]
  },
  {
   "cell_type": "code",
   "execution_count": 23,
   "id": "73546df2-dd61-4e81-a831-31b2d8950afb",
   "metadata": {},
   "outputs": [],
   "source": [
    "A = np.array([[1,2],[3,4]])\n",
    "B = np.array([10,20])"
   ]
  },
  {
   "cell_type": "code",
   "execution_count": 24,
   "id": "728460ff-50b1-4cfc-92d6-0f3debc77fa6",
   "metadata": {},
   "outputs": [
    {
     "data": {
      "text/plain": [
       "array([[1, 2],\n",
       "       [3, 4]])"
      ]
     },
     "execution_count": 24,
     "metadata": {},
     "output_type": "execute_result"
    }
   ],
   "source": [
    "A"
   ]
  },
  {
   "cell_type": "code",
   "execution_count": 25,
   "id": "8011e926-ca66-4347-8991-3dbefe25190d",
   "metadata": {},
   "outputs": [
    {
     "data": {
      "text/plain": [
       "array([10, 20])"
      ]
     },
     "execution_count": 25,
     "metadata": {},
     "output_type": "execute_result"
    }
   ],
   "source": [
    "B"
   ]
  },
  {
   "cell_type": "code",
   "execution_count": 26,
   "id": "ee3e1b18-98c1-4f8a-97a9-cae5bb0a2f13",
   "metadata": {},
   "outputs": [
    {
     "data": {
      "text/plain": [
       "array([[10, 40],\n",
       "       [30, 80]])"
      ]
     },
     "execution_count": 26,
     "metadata": {},
     "output_type": "execute_result"
    }
   ],
   "source": [
    "A * B"
   ]
  },
  {
   "cell_type": "code",
   "execution_count": 27,
   "id": "77e6e7a0-58e1-4f47-96fb-56cdcebd71e5",
   "metadata": {},
   "outputs": [
    {
     "data": {
      "text/plain": [
       "array([[10, 40],\n",
       "       [30, 80]])"
      ]
     },
     "execution_count": 27,
     "metadata": {},
     "output_type": "execute_result"
    }
   ],
   "source": [
    "B * A"
   ]
  },
  {
   "cell_type": "markdown",
   "id": "7a069500-f34a-485c-a29a-c33e081ed4ab",
   "metadata": {},
   "source": [
    "### <span style=\"font-family: 'D2Coding'\">1.5.6 원소 접근</span>"
   ]
  },
  {
   "cell_type": "code",
   "execution_count": null,
   "id": "515ff659-3bdc-43df-ad5c-7e3faa42a192",
   "metadata": {},
   "outputs": [],
   "source": [
    "X"
   ]
  }
 ],
 "metadata": {
  "kernelspec": {
   "display_name": "Python 3 (ipykernel)",
   "language": "python",
   "name": "python3"
  },
  "language_info": {
   "codemirror_mode": {
    "name": "ipython",
    "version": 3
   },
   "file_extension": ".py",
   "mimetype": "text/x-python",
   "name": "python",
   "nbconvert_exporter": "python",
   "pygments_lexer": "ipython3",
   "version": "3.12.1"
  }
 },
 "nbformat": 4,
 "nbformat_minor": 5
}
